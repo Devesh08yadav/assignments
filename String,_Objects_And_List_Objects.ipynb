{
  "nbformat": 4,
  "nbformat_minor": 0,
  "metadata": {
    "colab": {
      "name": "String, Objects And List Objects.ipynb",
      "provenance": []
    },
    "kernelspec": {
      "name": "python3",
      "display_name": "Python 3"
    },
    "language_info": {
      "name": "python"
    }
  },
  "cells": [
    {
      "cell_type": "code",
      "metadata": {
        "colab": {
          "base_uri": "https://localhost:8080/"
        },
        "id": "TMgx__CghXhb",
        "outputId": "7c5c0cd7-e8f2-4236-bfb9-5a0652a1fecd"
      },
      "source": [
        "n=int(input(\"enter the number of rows \"))\n",
        "\n",
        "for i in range(n):\n",
        "  print(\"* \"*(i+1) + \" \"*(n-i-1))\n",
        "for i in range(n-1):\n",
        "  print(\"* \"*(n-i-1)+\" \"*(i+1))"
      ],
      "execution_count": 11,
      "outputs": [
        {
          "output_type": "stream",
          "name": "stdout",
          "text": [
            "enter the number of rows 5\n",
            "*     \n",
            "* *    \n",
            "* * *   \n",
            "* * * *  \n",
            "* * * * * \n",
            "* * * *  \n",
            "* * *   \n",
            "* *    \n",
            "*     \n"
          ]
        }
      ]
    },
    {
      "cell_type": "code",
      "metadata": {
        "colab": {
          "base_uri": "https://localhost:8080/"
        },
        "id": "SrRBahs8huCd",
        "outputId": "7d95a82a-6e82-4801-ad0b-a435ed9fb2a5"
      },
      "source": [
        "x=input(\"emter the string you want to reverse \")\n",
        "y=x[::-1]\n",
        "print(y)\n"
      ],
      "execution_count": 14,
      "outputs": [
        {
          "output_type": "stream",
          "name": "stdout",
          "text": [
            "emter the string you want to reverse ineuron\n",
            "norueni\n"
          ]
        }
      ]
    },
    {
      "cell_type": "code",
      "metadata": {
        "id": "00Ji90c5kCDV"
      },
      "source": [
        ""
      ],
      "execution_count": 14,
      "outputs": []
    }
  ]
}